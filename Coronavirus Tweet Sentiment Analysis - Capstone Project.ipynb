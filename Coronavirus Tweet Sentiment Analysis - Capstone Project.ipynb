{
 "cells": [
  {
   "cell_type": "markdown",
   "metadata": {
    "id": "tOGC-qoyhJeX"
   },
   "source": [
    "# <b><u> Project Title : Sentiment Analysis : Predicting sentiment of COVID-19 tweets</u></b>"
   ]
  },
  {
   "cell_type": "code",
   "execution_count": 1,
   "metadata": {
    "id": "dByMsuzT8Tnw"
   },
   "outputs": [],
   "source": [
    "import pandas as pd\n",
    "import unidecode\n",
    "import re\n",
    "import string\n",
    "import math\n",
    "\n",
    "# Just for my peace of mind\n",
    "from tqdm import tqdm\n",
    "\n",
    "from nltk.corpus import stopwords\n",
    "# from nltk.tokenize import word_tokenize\n",
    "from nltk.stem import WordNetLemmatizer\n",
    "from sklearn.feature_extraction.text import TfidfVectorizer\n",
    "\n",
    "from sklearn.model_selection import GridSearchCV\n",
    "from sklearn.model_selection import train_test_split\n",
    "from sklearn.metrics import accuracy_score, precision_score, classification_report\n",
    "from sklearn.preprocessing import MinMaxScaler\n",
    "# from sklearn.metrics import precision_score\n",
    "from sklearn.linear_model import LogisticRegression\n",
    "from sklearn.naive_bayes import MultinomialNB\n",
    "from sklearn.svm import SVC\n",
    "from sklearn.neighbors import KNeighborsClassifier\n",
    "from sklearn.ensemble import RandomForestClassifier, GradientBoostingClassifier\n",
    "import xgboost"
   ]
  },
  {
   "cell_type": "code",
   "execution_count": 2,
   "metadata": {},
   "outputs": [],
   "source": [
    "stop_words = set(stopwords.words('english'))\n",
    "lemmatizer = WordNetLemmatizer()\n",
    "\n",
    "# removing negating words\n",
    "stop_words.remove(\"not\")\n",
    "for word in list(stop_words):\n",
    "    if word[-2:] == \"'t\":\n",
    "        stop_words.remove(word)\n",
    "\n",
    "punctuations = string.punctuation.replace(\"'\", \"\")\n",
    "\n",
    "# Later use hastags for computing different TF-IDF\n",
    "punctuations = punctuations.replace(\"#\", \"\")"
   ]
  },
  {
   "cell_type": "code",
   "execution_count": 3,
   "metadata": {},
   "outputs": [],
   "source": [
    "df = pd.read_csv(\"Coronavirus Tweets.csv\", engine= \"python\", encoding=\"ISO-8859-1\")"
   ]
  },
  {
   "cell_type": "code",
   "execution_count": 4,
   "metadata": {},
   "outputs": [],
   "source": [
    "# No easy way than to code a library to clean the available data, as it deals with all edge cases \n",
    "# Ignoring \"Location\" column after trying to clean it with [GeoText, locationtagger] libraries\n",
    "# df[\"Location\"].value_counts()[:10].plot(kind=\"bar\", ylabel = \"\", title=\"Top 10 Countries\", figsize=(15, 5));\n",
    "\n",
    "df.drop(\"Location\", axis=1, inplace=True)"
   ]
  },
  {
   "cell_type": "code",
   "execution_count": 5,
   "metadata": {},
   "outputs": [],
   "source": [
    "df[\"OriginalTweet\"] = [i.replace(\"Â\", \"\") for i in df[\"OriginalTweet\"]]\n",
    "df[\"OriginalTweet\"] = [unidecode.unidecode(i) for i in df[\"OriginalTweet\"]]"
   ]
  },
  {
   "cell_type": "markdown",
   "metadata": {},
   "source": [
    "### Checking if same \"UserName\" occuring more than once "
   ]
  },
  {
   "cell_type": "code",
   "execution_count": 6,
   "metadata": {},
   "outputs": [
    {
     "data": {
      "text/plain": [
       "[]"
      ]
     },
     "execution_count": 6,
     "metadata": {},
     "output_type": "execute_result"
    }
   ],
   "source": [
    "[x for x,y in zip(df[\"UserName\"].value_counts().keys(), df[\"UserName\"].value_counts().values) if y>1]"
   ]
  },
  {
   "cell_type": "markdown",
   "metadata": {},
   "source": [
    "### Overview of Sentiments "
   ]
  },
  {
   "cell_type": "code",
   "execution_count": 7,
   "metadata": {},
   "outputs": [],
   "source": [
    "df[\"Sentiment_2\"] = df[\"Sentiment\"].replace({\"Extremely Positive\": \"Positive\", \"Extremely Negative\": \"Negative\"})"
   ]
  },
  {
   "cell_type": "code",
   "execution_count": 8,
   "metadata": {},
   "outputs": [
    {
     "data": {
      "image/png": "[encoded data removed]",
      "text/plain": [
       "<Figure size 432x288 with 1 Axes>"
      ]
     },
     "metadata": {},
     "output_type": "display_data"
    }
   ],
   "source": [
    "df[\"Sentiment_2\"].value_counts().plot(kind=\"pie\", \n",
    "                                      autopct='%0.1f%%', \n",
    "                                      explode=[0.05]*len(df[\"Sentiment_2\"].value_counts()), \n",
    "                                      ylabel = \"\");"
   ]
  },
  {
   "cell_type": "code",
   "execution_count": 9,
   "metadata": {},
   "outputs": [],
   "source": [
    "def preprocess(old_string):\n",
    "    '''\n",
    "    Removing \n",
    "    1. @ Tags\n",
    "    2. Links\n",
    "    3. Standalone Digits (Since I want \"covid19\" as one of the features)\n",
    "    '''\n",
    "    \n",
    "    new_string = old_string.lower()\n",
    "    new_string = re.sub(\"(@[\\w]+)|(\\w+:\\/\\/\\S+)|(\\s\\d+\\s)\", \" \", new_string)\n",
    "    \n",
    "    # Lemmatization\n",
    "    new_string = lemmatizer.lemmatize(new_string)\n",
    "    \n",
    "    # removing stop words\n",
    "    new_string = \" \".join([word for word in new_string.split() if word not in stop_words])\n",
    "    \n",
    "    # Removing punctuations\n",
    "    # new_string = re.sub(\"[^\\w\\s]\", \" \", new_string)\n",
    "    # Not the most efficient way, but a necessary evil considering I want to keep contractions such as shouldn't and don't\n",
    "    for element in new_string:\n",
    "        if element in punctuations:\n",
    "            new_string = new_string.replace(element, \"\")\n",
    "    new_string = new_string.replace(\"_\", \"\")\n",
    "    \n",
    "    # Removing digits\n",
    "    new_string = re.sub(\"(\\s\\d+\\s)\", \" \", new_string)\n",
    "    \n",
    "    # Removing extra spaces\n",
    "    new_string = \" \".join(new_string.split())\n",
    "    \n",
    "    return new_string"
   ]
  },
  {
   "cell_type": "code",
   "execution_count": 10,
   "metadata": {},
   "outputs": [],
   "source": [
    "df[\"ProcessedTweet\"] = df[\"OriginalTweet\"].apply(preprocess)"
   ]
  },
  {
   "cell_type": "code",
   "execution_count": 11,
   "metadata": {},
   "outputs": [],
   "source": [
    "# removing all the rows where the \"ProcessedTweet\"s are empty\n",
    "df.drop(df[df[\"ProcessedTweet\"]==\"\"].index, inplace=True)"
   ]
  },
  {
   "cell_type": "markdown",
   "metadata": {},
   "source": [
    "### Creating TF-IDF [(Term Frequency - Inverse Document Frequency)](https://scikit-learn.org/stable/modules/generated/sklearn.feature_extraction.text.TfidfVectorizer.html)\n",
    "\n",
    "$$TF = \\frac{Count(word)\\space in\\space sentence}{Sum(words)\\space in\\space sentence}$$\n",
    "\n",
    "$$IDF = \\log(\\frac{Count(Sentence)}{Count(Sentence)\\space with\\space word})$$"
   ]
  },
  {
   "cell_type": "code",
   "execution_count": 12,
   "metadata": {},
   "outputs": [],
   "source": [
    "# Don NOT execute this unless you have upwards of 62hours to spare\n",
    "\n",
    "\n",
    "# # Creating IDF dict for each word\n",
    "\n",
    "# all_words = \" \".join(df[\"ProcessedTweet\"].values).strip().split()\n",
    "# no_of_sent = len(df[\"ProcessedTweet\"])\n",
    "\n",
    "# idf_dict = {word:0 for word in set(all_words)}\n",
    "\n",
    "# for sent in tqdm(df[\"ProcessedTweet\"]):\n",
    "#     for word in idf_dict.keys():\n",
    "#         if word in sent.split():\n",
    "#             idf_dict[word] += 1\n",
    "# # Finalizing IDF dict\n",
    "# idf_dict = {key:math.log10(no_of_sent/value) for key, value in idf_dict.items()}\n",
    "\n",
    "# # Creating Dataframe for tf_idf\n",
    "# tf_idf_df = pd.DataFrame(columns=[word for word in idf_dict.keys()])\n",
    "\n",
    "# for idx, sent in tqdm(enumerate(df[\"ProcessedTweet\"])):\n",
    "#     tf_idf_df.append(pd.Series(), ignore_index=True)\n",
    "#     for word in idf_dict.keys():\n",
    "#         tf_idf_df.loc[idx, word] = (sent.split().count(word)/len(sent.split()))*idf_dict[word]"
   ]
  },
  {
   "cell_type": "markdown",
   "metadata": {},
   "source": [
    "##### Test Train Split"
   ]
  },
  {
   "cell_type": "code",
   "execution_count": 13,
   "metadata": {},
   "outputs": [],
   "source": [
    "# To avoid any data leakage, lets split the data first and then extract features.\n",
    "\n",
    "X_train, X_test, y_train, y_test = train_test_split(df[\"ProcessedTweet\"], \n",
    "#                                                     df[\"Sentiment\"],\n",
    "                                                    df[\"Sentiment_2\"],\n",
    "                                                    test_size = 0.15, random_state = 420)"
   ]
  },
  {
   "cell_type": "code",
   "execution_count": 14,
   "metadata": {},
   "outputs": [],
   "source": [
    "# Before prunning since our dataset is limited and testing is maximum potential is possible\n",
    "all_words = set(\" \".join(X_train.values).strip().split())\n",
    "vocab = {word:idx for idx, word in enumerate(all_words)}\n",
    "\n",
    "# tf_idf_vect = TfidfVectorizer(lowercase=False, min_df=0, max_df=50)\n",
    "tf_idf_vect = TfidfVectorizer(lowercase=False, vocabulary=vocab)"
   ]
  },
  {
   "cell_type": "code",
   "execution_count": 15,
   "metadata": {},
   "outputs": [],
   "source": [
    "tf_idf_train = tf_idf_vect.fit_transform(X_train)\n",
    "tf_idf_test = tf_idf_vect.transform(X_test)"
   ]
  },
  {
   "cell_type": "markdown",
   "metadata": {},
   "source": [
    "Lets build models and compare their performance based on f1 score which considers both accuracy and precision."
   ]
  },
  {
   "cell_type": "code",
   "execution_count": 16,
   "metadata": {},
   "outputs": [],
   "source": [
    "models = {}"
   ]
  },
  {
   "cell_type": "code",
   "execution_count": 17,
   "metadata": {},
   "outputs": [],
   "source": [
    "def models_reviewer(models, X_test, y_test):\n",
    "    '''\n",
    "    models : dictionary with key as name of the model and value as model itself\n",
    "    '''\n",
    "    for model in models.items():\n",
    "        \n",
    "        y_pred = model[1].predict(X_test)\n",
    "        # precision = precision_score(y_test, y_pred, average=\"weighted\")\n",
    "        accuracy = accuracy_score(y_test, y_pred)\n",
    "        \n",
    "        print(f\"\\t\\t\\t----- {model[0]} -----\\n\")\n",
    "        print(classification_report(y_test, y_pred), end=\"\\n\\n\")\n",
    "#         print(classification_report(y_test, y_pred))\n",
    "#         print(f\"accuracy = {accuracy}\", end=\"\\n\\n\")"
   ]
  },
  {
   "cell_type": "markdown",
   "metadata": {},
   "source": [
    "### [Multinomial Naive Bayes](https://scikit-learn.org/stable/modules/generated/sklearn.naive_bayes.MultinomialNB.html#sklearn.naive_bayes.MultinomialNB)\n",
    "Usually considered to be a baseline for Text Classification problems"
   ]
  },
  {
   "cell_type": "code",
   "execution_count": 18,
   "metadata": {},
   "outputs": [
    {
     "name": "stdout",
     "output_type": "stream",
     "text": [
      "Fitting 5 folds for each of 4 candidates, totalling 20 fits\n"
     ]
    },
    {
     "name": "stderr",
     "output_type": "stream",
     "text": [
      "D:\\ProgramData\\Anaconda3\\lib\\site-packages\\sklearn\\naive_bayes.py:557: UserWarning: alpha too small will result in numeric errors, setting alpha = 1.0e-10\n",
      "  % _ALPHA_MIN\n"
     ]
    }
   ],
   "source": [
    "MNB_params = {\"alpha\": [0, 0.4, 0.6, 1]}\n",
    "grid_MNB = GridSearchCV(MultinomialNB(), \n",
    "                        param_grid=MNB_params, \n",
    "                        scoring=\"f1_weighted\", \n",
    "                        verbose=2,\n",
    "                        n_jobs=-1)\n",
    "model = grid_MNB.fit(tf_idf_train, y_train)\n",
    "models[\"Multinomial Naive Bayes\"] = model"
   ]
  },
  {
   "cell_type": "markdown",
   "metadata": {},
   "source": [
    "### [Logistic Regression](https://scikit-learn.org/stable/modules/linear_model.html#logistic-regression)"
   ]
  },
  {
   "cell_type": "code",
   "execution_count": 19,
   "metadata": {},
   "outputs": [
    {
     "name": "stdout",
     "output_type": "stream",
     "text": [
      "Fitting 5 folds for each of 3 candidates, totalling 15 fits\n"
     ]
    },
    {
     "name": "stderr",
     "output_type": "stream",
     "text": [
      "[Parallel(n_jobs=-1)]: Using backend LokyBackend with 12 concurrent workers.\n",
      "[Parallel(n_jobs=-1)]: Done   1 out of   1 | elapsed:    3.3s finished\n"
     ]
    }
   ],
   "source": [
    "lr_params = {\"C\": [0.4, 0.6, 1]}\n",
    "grid_lr = GridSearchCV(LogisticRegression(verbose=1, n_jobs=-1,), \n",
    "                       param_grid=lr_params, \n",
    "                       scoring=\"f1_weighted\", \n",
    "                       verbose=2,\n",
    "                       n_jobs=-1)\n",
    "model = grid_lr.fit(tf_idf_train, y_train)\n",
    "models[\"Logistic Regression\"] = model"
   ]
  },
  {
   "cell_type": "markdown",
   "metadata": {},
   "source": [
    "### [SVM](https://scikit-learn.org/stable/modules/generated/sklearn.svm.SVC.html#sklearn.svm.SVC)"
   ]
  },
  {
   "cell_type": "code",
   "execution_count": 20,
   "metadata": {},
   "outputs": [
    {
     "name": "stdout",
     "output_type": "stream",
     "text": [
      "Fitting 5 folds for each of 18 candidates, totalling 90 fits\n",
      "[LibSVM]"
     ]
    }
   ],
   "source": [
    "SVC_params = {\"C\": [0.4, 0.6, 1], \n",
    "              \"kernel\":['rbf', 'sigmoid', 'poly'],\n",
    "              \"degree\":[3, 4]}\n",
    "grid_SVC = GridSearchCV(SVC(verbose=1,), \n",
    "                       param_grid=SVC_params, \n",
    "                       scoring=\"f1_weighted\", \n",
    "                       verbose=2,\n",
    "                       n_jobs=-1)\n",
    "model = grid_SVC.fit(tf_idf_train, y_train)\n",
    "models[\"Support Vector Classification\"] = model"
   ]
  },
  {
   "cell_type": "markdown",
   "metadata": {},
   "source": [
    "### [Random Forest]()"
   ]
  },
  {
   "cell_type": "code",
   "execution_count": 21,
   "metadata": {},
   "outputs": [
    {
     "name": "stdout",
     "output_type": "stream",
     "text": [
      "Fitting 5 folds for each of 18 candidates, totalling 90 fits\n",
      "[LibSVM]"
     ]
    }
   ],
   "source": [
    "RF_params = {\"criterion\": [\"gini\", \"entropy\"], \n",
    "              \"n_estimators\":[10, 100, 400, 700],\n",
    "              \"max_depth\":[3, 7]}\n",
    "grid_RF = GridSearchCV(RandomForestClassifier(verbose=1, n_jobs=-1), \n",
    "                       param_grid=RF_params, \n",
    "                       scoring=\"f1_weighted\", \n",
    "                       verbose=2,\n",
    "                       n_jobs=-1)\n",
    "model = grid_SVC.fit(tf_idf_train, y_train)\n",
    "models[\"Random Forest Classifier\"] = model"
   ]
  },
  {
   "cell_type": "markdown",
   "metadata": {},
   "source": [
    "### [Gradient Boosting](https://xgboost.readthedocs.io/en/stable/python/python_intro.html)"
   ]
  },
  {
   "cell_type": "code",
   "execution_count": 22,
   "metadata": {},
   "outputs": [
    {
     "name": "stdout",
     "output_type": "stream",
     "text": [
      "Fitting 5 folds for each of 32 candidates, totalling 160 fits\n",
      "[04:33:40] INFO: C:\\Jenkins\\workspace\\xgboost-win64_release_0.90\\src\\tree\\updater_prune.cc:74: tree pruning end, 1 roots, 274 extra nodes, 0 pruned nodes, max_depth=10\n",
      "[04:33:41] INFO: C:\\Jenkins\\workspace\\xgboost-win64_release_0.90\\src\\tree\\updater_prune.cc:74: tree pruning end, 1 roots, 264 extra nodes, 0 pruned nodes, max_depth=10\n",
      "[04:33:41] INFO: C:\\Jenkins\\workspace\\xgboost-win64_release_0.90\\src\\tree\\updater_prune.cc:74: tree pruning end, 1 roots, 242 extra nodes, 0 pruned nodes, max_depth=10\n",
      "[04:33:42] INFO: C:\\Jenkins\\workspace\\xgboost-win64_release_0.90\\src\\tree\\updater_prune.cc:74: tree pruning end, 1 roots, 260 extra nodes, 0 pruned nodes, max_depth=10\n",
      "[04:33:43] INFO: C:\\Jenkins\\workspace\\xgboost-win64_release_0.90\\src\\tree\\updater_prune.cc:74: tree pruning end, 1 roots, 222 extra nodes, 0 pruned nodes, max_depth=10\n",
      "[04:33:44] INFO: C:\\Jenkins\\workspace\\xgboost-win64_release_0.90\\src\\tree\\updater_prune.cc:74: tree pruning end, 1 roots, 234 extra nodes, 0 pruned nodes, max_depth=10\n",
      "[04:33:44] INFO: C:\\Jenkins\\workspace\\xgboost-win64_release_0.90\\src\\tree\\updater_prune.cc:74: tree pruning end, 1 roots, 252 extra nodes, 0 pruned nodes, max_depth=10\n",
      "[04:33:45] INFO: C:\\Jenkins\\workspace\\xgboost-win64_release_0.90\\src\\tree\\updater_prune.cc:74: tree pruning end, 1 roots, 254 extra nodes, 0 pruned nodes, max_depth=10\n",
      "[04:33:46] INFO: C:\\Jenkins\\workspace\\xgboost-win64_release_0.90\\src\\tree\\updater_prune.cc:74: tree pruning end, 1 roots, 240 extra nodes, 0 pruned nodes, max_depth=10\n",
      "[04:33:46] INFO: C:\\Jenkins\\workspace\\xgboost-win64_release_0.90\\src\\tree\\updater_prune.cc:74: tree pruning end, 1 roots, 294 extra nodes, 0 pruned nodes, max_depth=10\n",
      "[04:33:47] INFO: C:\\Jenkins\\workspace\\xgboost-win64_release_0.90\\src\\tree\\updater_prune.cc:74: tree pruning end, 1 roots, 230 extra nodes, 0 pruned nodes, max_depth=10\n",
      "[04:33:48] INFO: C:\\Jenkins\\workspace\\xgboost-win64_release_0.90\\src\\tree\\updater_prune.cc:74: tree pruning end, 1 roots, 228 extra nodes, 0 pruned nodes, max_depth=10\n",
      "[04:33:48] INFO: C:\\Jenkins\\workspace\\xgboost-win64_release_0.90\\src\\tree\\updater_prune.cc:74: tree pruning end, 1 roots, 290 extra nodes, 0 pruned nodes, max_depth=10\n",
      "[04:33:49] INFO: C:\\Jenkins\\workspace\\xgboost-win64_release_0.90\\src\\tree\\updater_prune.cc:74: tree pruning end, 1 roots, 244 extra nodes, 0 pruned nodes, max_depth=10\n",
      "[04:33:50] INFO: C:\\Jenkins\\workspace\\xgboost-win64_release_0.90\\src\\tree\\updater_prune.cc:74: tree pruning end, 1 roots, 210 extra nodes, 0 pruned nodes, max_depth=10\n",
      "[04:33:50] INFO: C:\\Jenkins\\workspace\\xgboost-win64_release_0.90\\src\\tree\\updater_prune.cc:74: tree pruning end, 1 roots, 286 extra nodes, 0 pruned nodes, max_depth=10\n",
      "[04:33:51] INFO: C:\\Jenkins\\workspace\\xgboost-win64_release_0.90\\src\\tree\\updater_prune.cc:74: tree pruning end, 1 roots, 270 extra nodes, 0 pruned nodes, max_depth=10\n",
      "[04:33:52] INFO: C:\\Jenkins\\workspace\\xgboost-win64_release_0.90\\src\\tree\\updater_prune.cc:74: tree pruning end, 1 roots, 228 extra nodes, 0 pruned nodes, max_depth=10\n",
      "[04:33:52] INFO: C:\\Jenkins\\workspace\\xgboost-win64_release_0.90\\src\\tree\\updater_prune.cc:74: tree pruning end, 1 roots, 330 extra nodes, 0 pruned nodes, max_depth=10\n",
      "[04:33:53] INFO: C:\\Jenkins\\workspace\\xgboost-win64_release_0.90\\src\\tree\\updater_prune.cc:74: tree pruning end, 1 roots, 264 extra nodes, 0 pruned nodes, max_depth=10\n",
      "[04:33:54] INFO: C:\\Jenkins\\workspace\\xgboost-win64_release_0.90\\src\\tree\\updater_prune.cc:74: tree pruning end, 1 roots, 208 extra nodes, 0 pruned nodes, max_depth=10\n",
      "[04:33:54] INFO: C:\\Jenkins\\workspace\\xgboost-win64_release_0.90\\src\\tree\\updater_prune.cc:74: tree pruning end, 1 roots, 334 extra nodes, 0 pruned nodes, max_depth=10\n",
      "[04:33:55] INFO: C:\\Jenkins\\workspace\\xgboost-win64_release_0.90\\src\\tree\\updater_prune.cc:74: tree pruning end, 1 roots, 236 extra nodes, 0 pruned nodes, max_depth=10\n",
      "[04:33:55] INFO: C:\\Jenkins\\workspace\\xgboost-win64_release_0.90\\src\\tree\\updater_prune.cc:74: tree pruning end, 1 roots, 214 extra nodes, 0 pruned nodes, max_depth=10\n",
      "[04:33:56] INFO: C:\\Jenkins\\workspace\\xgboost-win64_release_0.90\\src\\tree\\updater_prune.cc:74: tree pruning end, 1 roots, 322 extra nodes, 0 pruned nodes, max_depth=10\n",
      "[04:33:57] INFO: C:\\Jenkins\\workspace\\xgboost-win64_release_0.90\\src\\tree\\updater_prune.cc:74: tree pruning end, 1 roots, 288 extra nodes, 0 pruned nodes, max_depth=10\n",
      "[04:33:57] INFO: C:\\Jenkins\\workspace\\xgboost-win64_release_0.90\\src\\tree\\updater_prune.cc:74: tree pruning end, 1 roots, 230 extra nodes, 0 pruned nodes, max_depth=10\n",
      "[04:33:58] INFO: C:\\Jenkins\\workspace\\xgboost-win64_release_0.90\\src\\tree\\updater_prune.cc:74: tree pruning end, 1 roots, 236 extra nodes, 0 pruned nodes, max_depth=10\n",
      "[04:33:58] INFO: C:\\Jenkins\\workspace\\xgboost-win64_release_0.90\\src\\tree\\updater_prune.cc:74: tree pruning end, 1 roots, 238 extra nodes, 0 pruned nodes, max_depth=10\n",
      "[04:33:59] INFO: C:\\Jenkins\\workspace\\xgboost-win64_release_0.90\\src\\tree\\updater_prune.cc:74: tree pruning end, 1 roots, 228 extra nodes, 0 pruned nodes, max_depth=10\n",
      "[04:34:00] INFO: C:\\Jenkins\\workspace\\xgboost-win64_release_0.90\\src\\tree\\updater_prune.cc:74: tree pruning end, 1 roots, 304 extra nodes, 0 pruned nodes, max_depth=10\n",
      "[04:34:00] INFO: C:\\Jenkins\\workspace\\xgboost-win64_release_0.90\\src\\tree\\updater_prune.cc:74: tree pruning end, 1 roots, 242 extra nodes, 0 pruned nodes, max_depth=10\n",
      "[04:34:01] INFO: C:\\Jenkins\\workspace\\xgboost-win64_release_0.90\\src\\tree\\updater_prune.cc:74: tree pruning end, 1 roots, 208 extra nodes, 0 pruned nodes, max_depth=10\n",
      "[04:34:01] INFO: C:\\Jenkins\\workspace\\xgboost-win64_release_0.90\\src\\tree\\updater_prune.cc:74: tree pruning end, 1 roots, 230 extra nodes, 0 pruned nodes, max_depth=10\n",
      "[04:34:02] INFO: C:\\Jenkins\\workspace\\xgboost-win64_release_0.90\\src\\tree\\updater_prune.cc:74: tree pruning end, 1 roots, 248 extra nodes, 0 pruned nodes, max_depth=10\n",
      "[04:34:02] INFO: C:\\Jenkins\\workspace\\xgboost-win64_release_0.90\\src\\tree\\updater_prune.cc:74: tree pruning end, 1 roots, 222 extra nodes, 0 pruned nodes, max_depth=10\n",
      "[04:34:03] INFO: C:\\Jenkins\\workspace\\xgboost-win64_release_0.90\\src\\tree\\updater_prune.cc:74: tree pruning end, 1 roots, 256 extra nodes, 0 pruned nodes, max_depth=10\n",
      "[04:34:04] INFO: C:\\Jenkins\\workspace\\xgboost-win64_release_0.90\\src\\tree\\updater_prune.cc:74: tree pruning end, 1 roots, 260 extra nodes, 0 pruned nodes, max_depth=10\n",
      "[04:34:04] INFO: C:\\Jenkins\\workspace\\xgboost-win64_release_0.90\\src\\tree\\updater_prune.cc:74: tree pruning end, 1 roots, 236 extra nodes, 0 pruned nodes, max_depth=10\n",
      "[04:34:05] INFO: C:\\Jenkins\\workspace\\xgboost-win64_release_0.90\\src\\tree\\updater_prune.cc:74: tree pruning end, 1 roots, 232 extra nodes, 0 pruned nodes, max_depth=10\n",
      "[04:34:05] INFO: C:\\Jenkins\\workspace\\xgboost-win64_release_0.90\\src\\tree\\updater_prune.cc:74: tree pruning end, 1 roots, 252 extra nodes, 0 pruned nodes, max_depth=10\n",
      "[04:34:06] INFO: C:\\Jenkins\\workspace\\xgboost-win64_release_0.90\\src\\tree\\updater_prune.cc:74: tree pruning end, 1 roots, 174 extra nodes, 0 pruned nodes, max_depth=10\n",
      "[04:34:06] INFO: C:\\Jenkins\\workspace\\xgboost-win64_release_0.90\\src\\tree\\updater_prune.cc:74: tree pruning end, 1 roots, 266 extra nodes, 0 pruned nodes, max_depth=10\n",
      "[04:34:07] INFO: C:\\Jenkins\\workspace\\xgboost-win64_release_0.90\\src\\tree\\updater_prune.cc:74: tree pruning end, 1 roots, 214 extra nodes, 0 pruned nodes, max_depth=10\n",
      "[04:34:08] INFO: C:\\Jenkins\\workspace\\xgboost-win64_release_0.90\\src\\tree\\updater_prune.cc:74: tree pruning end, 1 roots, 192 extra nodes, 0 pruned nodes, max_depth=10\n",
      "[04:34:08] INFO: C:\\Jenkins\\workspace\\xgboost-win64_release_0.90\\src\\tree\\updater_prune.cc:74: tree pruning end, 1 roots, 260 extra nodes, 0 pruned nodes, max_depth=10\n",
      "[04:34:09] INFO: C:\\Jenkins\\workspace\\xgboost-win64_release_0.90\\src\\tree\\updater_prune.cc:74: tree pruning end, 1 roots, 200 extra nodes, 0 pruned nodes, max_depth=10\n",
      "[04:34:09] INFO: C:\\Jenkins\\workspace\\xgboost-win64_release_0.90\\src\\tree\\updater_prune.cc:74: tree pruning end, 1 roots, 170 extra nodes, 0 pruned nodes, max_depth=10\n",
      "[04:34:10] INFO: C:\\Jenkins\\workspace\\xgboost-win64_release_0.90\\src\\tree\\updater_prune.cc:74: tree pruning end, 1 roots, 218 extra nodes, 0 pruned nodes, max_depth=10\n"
     ]
    },
    {
     "name": "stdout",
     "output_type": "stream",
     "text": [
      "[04:34:10] INFO: C:\\Jenkins\\workspace\\xgboost-win64_release_0.90\\src\\tree\\updater_prune.cc:74: tree pruning end, 1 roots, 242 extra nodes, 0 pruned nodes, max_depth=10\n",
      "[04:34:11] INFO: C:\\Jenkins\\workspace\\xgboost-win64_release_0.90\\src\\tree\\updater_prune.cc:74: tree pruning end, 1 roots, 218 extra nodes, 0 pruned nodes, max_depth=10\n",
      "[04:34:12] INFO: C:\\Jenkins\\workspace\\xgboost-win64_release_0.90\\src\\tree\\updater_prune.cc:74: tree pruning end, 1 roots, 228 extra nodes, 0 pruned nodes, max_depth=10\n",
      "[04:34:12] INFO: C:\\Jenkins\\workspace\\xgboost-win64_release_0.90\\src\\tree\\updater_prune.cc:74: tree pruning end, 1 roots, 202 extra nodes, 0 pruned nodes, max_depth=10\n",
      "[04:34:13] INFO: C:\\Jenkins\\workspace\\xgboost-win64_release_0.90\\src\\tree\\updater_prune.cc:74: tree pruning end, 1 roots, 188 extra nodes, 0 pruned nodes, max_depth=10\n",
      "[04:34:13] INFO: C:\\Jenkins\\workspace\\xgboost-win64_release_0.90\\src\\tree\\updater_prune.cc:74: tree pruning end, 1 roots, 268 extra nodes, 0 pruned nodes, max_depth=10\n",
      "[04:34:14] INFO: C:\\Jenkins\\workspace\\xgboost-win64_release_0.90\\src\\tree\\updater_prune.cc:74: tree pruning end, 1 roots, 188 extra nodes, 0 pruned nodes, max_depth=10\n",
      "[04:34:14] INFO: C:\\Jenkins\\workspace\\xgboost-win64_release_0.90\\src\\tree\\updater_prune.cc:74: tree pruning end, 1 roots, 192 extra nodes, 0 pruned nodes, max_depth=10\n",
      "[04:34:15] INFO: C:\\Jenkins\\workspace\\xgboost-win64_release_0.90\\src\\tree\\updater_prune.cc:74: tree pruning end, 1 roots, 234 extra nodes, 0 pruned nodes, max_depth=10\n",
      "[04:34:16] INFO: C:\\Jenkins\\workspace\\xgboost-win64_release_0.90\\src\\tree\\updater_prune.cc:74: tree pruning end, 1 roots, 198 extra nodes, 0 pruned nodes, max_depth=10\n",
      "[04:34:16] INFO: C:\\Jenkins\\workspace\\xgboost-win64_release_0.90\\src\\tree\\updater_prune.cc:74: tree pruning end, 1 roots, 190 extra nodes, 0 pruned nodes, max_depth=10\n",
      "[04:34:17] INFO: C:\\Jenkins\\workspace\\xgboost-win64_release_0.90\\src\\tree\\updater_prune.cc:74: tree pruning end, 1 roots, 260 extra nodes, 0 pruned nodes, max_depth=10\n",
      "[04:34:17] INFO: C:\\Jenkins\\workspace\\xgboost-win64_release_0.90\\src\\tree\\updater_prune.cc:74: tree pruning end, 1 roots, 212 extra nodes, 0 pruned nodes, max_depth=10\n",
      "[04:34:18] INFO: C:\\Jenkins\\workspace\\xgboost-win64_release_0.90\\src\\tree\\updater_prune.cc:74: tree pruning end, 1 roots, 218 extra nodes, 0 pruned nodes, max_depth=10\n",
      "[04:34:18] INFO: C:\\Jenkins\\workspace\\xgboost-win64_release_0.90\\src\\tree\\updater_prune.cc:74: tree pruning end, 1 roots, 236 extra nodes, 0 pruned nodes, max_depth=10\n",
      "[04:34:19] INFO: C:\\Jenkins\\workspace\\xgboost-win64_release_0.90\\src\\tree\\updater_prune.cc:74: tree pruning end, 1 roots, 240 extra nodes, 0 pruned nodes, max_depth=10\n",
      "[04:34:19] INFO: C:\\Jenkins\\workspace\\xgboost-win64_release_0.90\\src\\tree\\updater_prune.cc:74: tree pruning end, 1 roots, 130 extra nodes, 0 pruned nodes, max_depth=10\n",
      "[04:34:20] INFO: C:\\Jenkins\\workspace\\xgboost-win64_release_0.90\\src\\tree\\updater_prune.cc:74: tree pruning end, 1 roots, 226 extra nodes, 0 pruned nodes, max_depth=10\n",
      "[04:34:21] INFO: C:\\Jenkins\\workspace\\xgboost-win64_release_0.90\\src\\tree\\updater_prune.cc:74: tree pruning end, 1 roots, 164 extra nodes, 0 pruned nodes, max_depth=10\n",
      "[04:34:21] INFO: C:\\Jenkins\\workspace\\xgboost-win64_release_0.90\\src\\tree\\updater_prune.cc:74: tree pruning end, 1 roots, 178 extra nodes, 0 pruned nodes, max_depth=10\n",
      "[04:34:22] INFO: C:\\Jenkins\\workspace\\xgboost-win64_release_0.90\\src\\tree\\updater_prune.cc:74: tree pruning end, 1 roots, 252 extra nodes, 0 pruned nodes, max_depth=10\n",
      "[04:34:22] INFO: C:\\Jenkins\\workspace\\xgboost-win64_release_0.90\\src\\tree\\updater_prune.cc:74: tree pruning end, 1 roots, 172 extra nodes, 0 pruned nodes, max_depth=10\n",
      "[04:34:23] INFO: C:\\Jenkins\\workspace\\xgboost-win64_release_0.90\\src\\tree\\updater_prune.cc:74: tree pruning end, 1 roots, 198 extra nodes, 0 pruned nodes, max_depth=10\n",
      "[04:34:23] INFO: C:\\Jenkins\\workspace\\xgboost-win64_release_0.90\\src\\tree\\updater_prune.cc:74: tree pruning end, 1 roots, 248 extra nodes, 0 pruned nodes, max_depth=10\n",
      "[04:34:24] INFO: C:\\Jenkins\\workspace\\xgboost-win64_release_0.90\\src\\tree\\updater_prune.cc:74: tree pruning end, 1 roots, 178 extra nodes, 0 pruned nodes, max_depth=10\n",
      "[04:34:25] INFO: C:\\Jenkins\\workspace\\xgboost-win64_release_0.90\\src\\tree\\updater_prune.cc:74: tree pruning end, 1 roots, 192 extra nodes, 0 pruned nodes, max_depth=10\n",
      "[04:34:25] INFO: C:\\Jenkins\\workspace\\xgboost-win64_release_0.90\\src\\tree\\updater_prune.cc:74: tree pruning end, 1 roots, 284 extra nodes, 0 pruned nodes, max_depth=10\n",
      "[04:34:26] INFO: C:\\Jenkins\\workspace\\xgboost-win64_release_0.90\\src\\tree\\updater_prune.cc:74: tree pruning end, 1 roots, 140 extra nodes, 0 pruned nodes, max_depth=10\n",
      "[04:34:26] INFO: C:\\Jenkins\\workspace\\xgboost-win64_release_0.90\\src\\tree\\updater_prune.cc:74: tree pruning end, 1 roots, 148 extra nodes, 0 pruned nodes, max_depth=10\n",
      "[04:34:27] INFO: C:\\Jenkins\\workspace\\xgboost-win64_release_0.90\\src\\tree\\updater_prune.cc:74: tree pruning end, 1 roots, 200 extra nodes, 0 pruned nodes, max_depth=10\n",
      "[04:34:27] INFO: C:\\Jenkins\\workspace\\xgboost-win64_release_0.90\\src\\tree\\updater_prune.cc:74: tree pruning end, 1 roots, 144 extra nodes, 0 pruned nodes, max_depth=10\n",
      "[04:34:28] INFO: C:\\Jenkins\\workspace\\xgboost-win64_release_0.90\\src\\tree\\updater_prune.cc:74: tree pruning end, 1 roots, 166 extra nodes, 0 pruned nodes, max_depth=10\n",
      "[04:34:29] INFO: C:\\Jenkins\\workspace\\xgboost-win64_release_0.90\\src\\tree\\updater_prune.cc:74: tree pruning end, 1 roots, 278 extra nodes, 0 pruned nodes, max_depth=10\n",
      "[04:34:29] INFO: C:\\Jenkins\\workspace\\xgboost-win64_release_0.90\\src\\tree\\updater_prune.cc:74: tree pruning end, 1 roots, 162 extra nodes, 0 pruned nodes, max_depth=10\n",
      "[04:34:30] INFO: C:\\Jenkins\\workspace\\xgboost-win64_release_0.90\\src\\tree\\updater_prune.cc:74: tree pruning end, 1 roots, 178 extra nodes, 0 pruned nodes, max_depth=10\n",
      "[04:34:30] INFO: C:\\Jenkins\\workspace\\xgboost-win64_release_0.90\\src\\tree\\updater_prune.cc:74: tree pruning end, 1 roots, 142 extra nodes, 0 pruned nodes, max_depth=10\n",
      "[04:34:31] INFO: C:\\Jenkins\\workspace\\xgboost-win64_release_0.90\\src\\tree\\updater_prune.cc:74: tree pruning end, 1 roots, 168 extra nodes, 0 pruned nodes, max_depth=10\n",
      "[04:34:31] INFO: C:\\Jenkins\\workspace\\xgboost-win64_release_0.90\\src\\tree\\updater_prune.cc:74: tree pruning end, 1 roots, 180 extra nodes, 0 pruned nodes, max_depth=10\n",
      "[04:34:32] INFO: C:\\Jenkins\\workspace\\xgboost-win64_release_0.90\\src\\tree\\updater_prune.cc:74: tree pruning end, 1 roots, 170 extra nodes, 0 pruned nodes, max_depth=10\n",
      "[04:34:32] INFO: C:\\Jenkins\\workspace\\xgboost-win64_release_0.90\\src\\tree\\updater_prune.cc:74: tree pruning end, 1 roots, 166 extra nodes, 0 pruned nodes, max_depth=10\n",
      "[04:34:33] INFO: C:\\Jenkins\\workspace\\xgboost-win64_release_0.90\\src\\tree\\updater_prune.cc:74: tree pruning end, 1 roots, 196 extra nodes, 0 pruned nodes, max_depth=10\n",
      "[04:34:34] INFO: C:\\Jenkins\\workspace\\xgboost-win64_release_0.90\\src\\tree\\updater_prune.cc:74: tree pruning end, 1 roots, 134 extra nodes, 0 pruned nodes, max_depth=10\n",
      "[04:34:34] INFO: C:\\Jenkins\\workspace\\xgboost-win64_release_0.90\\src\\tree\\updater_prune.cc:74: tree pruning end, 1 roots, 144 extra nodes, 0 pruned nodes, max_depth=10\n",
      "[04:34:35] INFO: C:\\Jenkins\\workspace\\xgboost-win64_release_0.90\\src\\tree\\updater_prune.cc:74: tree pruning end, 1 roots, 164 extra nodes, 0 pruned nodes, max_depth=10\n",
      "[04:34:35] INFO: C:\\Jenkins\\workspace\\xgboost-win64_release_0.90\\src\\tree\\updater_prune.cc:74: tree pruning end, 1 roots, 182 extra nodes, 0 pruned nodes, max_depth=10\n",
      "[04:34:36] INFO: C:\\Jenkins\\workspace\\xgboost-win64_release_0.90\\src\\tree\\updater_prune.cc:74: tree pruning end, 1 roots, 122 extra nodes, 0 pruned nodes, max_depth=10\n",
      "[04:34:36] INFO: C:\\Jenkins\\workspace\\xgboost-win64_release_0.90\\src\\tree\\updater_prune.cc:74: tree pruning end, 1 roots, 164 extra nodes, 0 pruned nodes, max_depth=10\n",
      "[04:34:37] INFO: C:\\Jenkins\\workspace\\xgboost-win64_release_0.90\\src\\tree\\updater_prune.cc:74: tree pruning end, 1 roots, 152 extra nodes, 0 pruned nodes, max_depth=10\n",
      "[04:34:37] INFO: C:\\Jenkins\\workspace\\xgboost-win64_release_0.90\\src\\tree\\updater_prune.cc:74: tree pruning end, 1 roots, 136 extra nodes, 0 pruned nodes, max_depth=10\n"
     ]
    },
    {
     "name": "stdout",
     "output_type": "stream",
     "text": [
      "[04:34:38] INFO: C:\\Jenkins\\workspace\\xgboost-win64_release_0.90\\src\\tree\\updater_prune.cc:74: tree pruning end, 1 roots, 158 extra nodes, 0 pruned nodes, max_depth=10\n",
      "[04:34:38] INFO: C:\\Jenkins\\workspace\\xgboost-win64_release_0.90\\src\\tree\\updater_prune.cc:74: tree pruning end, 1 roots, 128 extra nodes, 0 pruned nodes, max_depth=10\n",
      "[04:34:39] INFO: C:\\Jenkins\\workspace\\xgboost-win64_release_0.90\\src\\tree\\updater_prune.cc:74: tree pruning end, 1 roots, 180 extra nodes, 0 pruned nodes, max_depth=10\n",
      "[04:34:39] INFO: C:\\Jenkins\\workspace\\xgboost-win64_release_0.90\\src\\tree\\updater_prune.cc:74: tree pruning end, 1 roots, 160 extra nodes, 0 pruned nodes, max_depth=10\n",
      "[04:34:40] INFO: C:\\Jenkins\\workspace\\xgboost-win64_release_0.90\\src\\tree\\updater_prune.cc:74: tree pruning end, 1 roots, 146 extra nodes, 0 pruned nodes, max_depth=10\n",
      "[04:34:41] INFO: C:\\Jenkins\\workspace\\xgboost-win64_release_0.90\\src\\tree\\updater_prune.cc:74: tree pruning end, 1 roots, 102 extra nodes, 0 pruned nodes, max_depth=10\n",
      "[04:34:41] INFO: C:\\Jenkins\\workspace\\xgboost-win64_release_0.90\\src\\tree\\updater_prune.cc:74: tree pruning end, 1 roots, 200 extra nodes, 0 pruned nodes, max_depth=10\n",
      "[04:34:42] INFO: C:\\Jenkins\\workspace\\xgboost-win64_release_0.90\\src\\tree\\updater_prune.cc:74: tree pruning end, 1 roots, 150 extra nodes, 0 pruned nodes, max_depth=10\n",
      "[04:34:42] INFO: C:\\Jenkins\\workspace\\xgboost-win64_release_0.90\\src\\tree\\updater_prune.cc:74: tree pruning end, 1 roots, 120 extra nodes, 0 pruned nodes, max_depth=10\n",
      "[04:34:43] INFO: C:\\Jenkins\\workspace\\xgboost-win64_release_0.90\\src\\tree\\updater_prune.cc:74: tree pruning end, 1 roots, 134 extra nodes, 0 pruned nodes, max_depth=10\n",
      "[04:34:43] INFO: C:\\Jenkins\\workspace\\xgboost-win64_release_0.90\\src\\tree\\updater_prune.cc:74: tree pruning end, 1 roots, 144 extra nodes, 0 pruned nodes, max_depth=10\n",
      "[04:34:44] INFO: C:\\Jenkins\\workspace\\xgboost-win64_release_0.90\\src\\tree\\updater_prune.cc:74: tree pruning end, 1 roots, 174 extra nodes, 0 pruned nodes, max_depth=10\n",
      "[04:34:44] INFO: C:\\Jenkins\\workspace\\xgboost-win64_release_0.90\\src\\tree\\updater_prune.cc:74: tree pruning end, 1 roots, 194 extra nodes, 0 pruned nodes, max_depth=10\n",
      "[04:34:45] INFO: C:\\Jenkins\\workspace\\xgboost-win64_release_0.90\\src\\tree\\updater_prune.cc:74: tree pruning end, 1 roots, 140 extra nodes, 0 pruned nodes, max_depth=10\n",
      "[04:34:45] INFO: C:\\Jenkins\\workspace\\xgboost-win64_release_0.90\\src\\tree\\updater_prune.cc:74: tree pruning end, 1 roots, 114 extra nodes, 0 pruned nodes, max_depth=10\n",
      "[04:34:46] INFO: C:\\Jenkins\\workspace\\xgboost-win64_release_0.90\\src\\tree\\updater_prune.cc:74: tree pruning end, 1 roots, 164 extra nodes, 0 pruned nodes, max_depth=10\n",
      "[04:34:46] INFO: C:\\Jenkins\\workspace\\xgboost-win64_release_0.90\\src\\tree\\updater_prune.cc:74: tree pruning end, 1 roots, 170 extra nodes, 0 pruned nodes, max_depth=10\n",
      "[04:34:47] INFO: C:\\Jenkins\\workspace\\xgboost-win64_release_0.90\\src\\tree\\updater_prune.cc:74: tree pruning end, 1 roots, 142 extra nodes, 0 pruned nodes, max_depth=10\n",
      "[04:34:47] INFO: C:\\Jenkins\\workspace\\xgboost-win64_release_0.90\\src\\tree\\updater_prune.cc:74: tree pruning end, 1 roots, 126 extra nodes, 0 pruned nodes, max_depth=10\n",
      "[04:34:48] INFO: C:\\Jenkins\\workspace\\xgboost-win64_release_0.90\\src\\tree\\updater_prune.cc:74: tree pruning end, 1 roots, 132 extra nodes, 0 pruned nodes, max_depth=10\n",
      "[04:34:49] INFO: C:\\Jenkins\\workspace\\xgboost-win64_release_0.90\\src\\tree\\updater_prune.cc:74: tree pruning end, 1 roots, 96 extra nodes, 0 pruned nodes, max_depth=10\n",
      "[04:34:49] INFO: C:\\Jenkins\\workspace\\xgboost-win64_release_0.90\\src\\tree\\updater_prune.cc:74: tree pruning end, 1 roots, 168 extra nodes, 0 pruned nodes, max_depth=10\n",
      "[04:34:50] INFO: C:\\Jenkins\\workspace\\xgboost-win64_release_0.90\\src\\tree\\updater_prune.cc:74: tree pruning end, 1 roots, 124 extra nodes, 0 pruned nodes, max_depth=10\n",
      "[04:34:50] INFO: C:\\Jenkins\\workspace\\xgboost-win64_release_0.90\\src\\tree\\updater_prune.cc:74: tree pruning end, 1 roots, 108 extra nodes, 0 pruned nodes, max_depth=10\n",
      "[04:34:51] INFO: C:\\Jenkins\\workspace\\xgboost-win64_release_0.90\\src\\tree\\updater_prune.cc:74: tree pruning end, 1 roots, 146 extra nodes, 0 pruned nodes, max_depth=10\n",
      "[04:34:51] INFO: C:\\Jenkins\\workspace\\xgboost-win64_release_0.90\\src\\tree\\updater_prune.cc:74: tree pruning end, 1 roots, 122 extra nodes, 0 pruned nodes, max_depth=10\n",
      "[04:34:52] INFO: C:\\Jenkins\\workspace\\xgboost-win64_release_0.90\\src\\tree\\updater_prune.cc:74: tree pruning end, 1 roots, 208 extra nodes, 0 pruned nodes, max_depth=10\n",
      "[04:34:52] INFO: C:\\Jenkins\\workspace\\xgboost-win64_release_0.90\\src\\tree\\updater_prune.cc:74: tree pruning end, 1 roots, 168 extra nodes, 0 pruned nodes, max_depth=10\n",
      "[04:34:53] INFO: C:\\Jenkins\\workspace\\xgboost-win64_release_0.90\\src\\tree\\updater_prune.cc:74: tree pruning end, 1 roots, 136 extra nodes, 0 pruned nodes, max_depth=10\n",
      "[04:34:53] INFO: C:\\Jenkins\\workspace\\xgboost-win64_release_0.90\\src\\tree\\updater_prune.cc:74: tree pruning end, 1 roots, 116 extra nodes, 0 pruned nodes, max_depth=10\n",
      "[04:34:54] INFO: C:\\Jenkins\\workspace\\xgboost-win64_release_0.90\\src\\tree\\updater_prune.cc:74: tree pruning end, 1 roots, 124 extra nodes, 0 pruned nodes, max_depth=10\n",
      "[04:34:54] INFO: C:\\Jenkins\\workspace\\xgboost-win64_release_0.90\\src\\tree\\updater_prune.cc:74: tree pruning end, 1 roots, 136 extra nodes, 0 pruned nodes, max_depth=10\n",
      "[04:34:55] INFO: C:\\Jenkins\\workspace\\xgboost-win64_release_0.90\\src\\tree\\updater_prune.cc:74: tree pruning end, 1 roots, 106 extra nodes, 0 pruned nodes, max_depth=10\n",
      "[04:34:55] INFO: C:\\Jenkins\\workspace\\xgboost-win64_release_0.90\\src\\tree\\updater_prune.cc:74: tree pruning end, 1 roots, 154 extra nodes, 0 pruned nodes, max_depth=10\n",
      "[04:34:56] INFO: C:\\Jenkins\\workspace\\xgboost-win64_release_0.90\\src\\tree\\updater_prune.cc:74: tree pruning end, 1 roots, 128 extra nodes, 0 pruned nodes, max_depth=10\n",
      "[04:34:57] INFO: C:\\Jenkins\\workspace\\xgboost-win64_release_0.90\\src\\tree\\updater_prune.cc:74: tree pruning end, 1 roots, 144 extra nodes, 0 pruned nodes, max_depth=10\n",
      "[04:34:57] INFO: C:\\Jenkins\\workspace\\xgboost-win64_release_0.90\\src\\tree\\updater_prune.cc:74: tree pruning end, 1 roots, 156 extra nodes, 0 pruned nodes, max_depth=10\n",
      "[04:34:58] INFO: C:\\Jenkins\\workspace\\xgboost-win64_release_0.90\\src\\tree\\updater_prune.cc:74: tree pruning end, 1 roots, 134 extra nodes, 0 pruned nodes, max_depth=10\n",
      "[04:34:58] INFO: C:\\Jenkins\\workspace\\xgboost-win64_release_0.90\\src\\tree\\updater_prune.cc:74: tree pruning end, 1 roots, 112 extra nodes, 0 pruned nodes, max_depth=10\n",
      "[04:34:59] INFO: C:\\Jenkins\\workspace\\xgboost-win64_release_0.90\\src\\tree\\updater_prune.cc:74: tree pruning end, 1 roots, 146 extra nodes, 0 pruned nodes, max_depth=10\n",
      "[04:34:59] INFO: C:\\Jenkins\\workspace\\xgboost-win64_release_0.90\\src\\tree\\updater_prune.cc:74: tree pruning end, 1 roots, 174 extra nodes, 0 pruned nodes, max_depth=10\n",
      "[04:35:00] INFO: C:\\Jenkins\\workspace\\xgboost-win64_release_0.90\\src\\tree\\updater_prune.cc:74: tree pruning end, 1 roots, 110 extra nodes, 0 pruned nodes, max_depth=10\n",
      "[04:35:00] INFO: C:\\Jenkins\\workspace\\xgboost-win64_release_0.90\\src\\tree\\updater_prune.cc:74: tree pruning end, 1 roots, 154 extra nodes, 0 pruned nodes, max_depth=10\n",
      "[04:35:01] INFO: C:\\Jenkins\\workspace\\xgboost-win64_release_0.90\\src\\tree\\updater_prune.cc:74: tree pruning end, 1 roots, 122 extra nodes, 0 pruned nodes, max_depth=10\n",
      "[04:35:01] INFO: C:\\Jenkins\\workspace\\xgboost-win64_release_0.90\\src\\tree\\updater_prune.cc:74: tree pruning end, 1 roots, 132 extra nodes, 0 pruned nodes, max_depth=10\n",
      "[04:35:02] INFO: C:\\Jenkins\\workspace\\xgboost-win64_release_0.90\\src\\tree\\updater_prune.cc:74: tree pruning end, 1 roots, 146 extra nodes, 0 pruned nodes, max_depth=10\n",
      "[04:35:03] INFO: C:\\Jenkins\\workspace\\xgboost-win64_release_0.90\\src\\tree\\updater_prune.cc:74: tree pruning end, 1 roots, 126 extra nodes, 0 pruned nodes, max_depth=10\n",
      "[04:35:03] INFO: C:\\Jenkins\\workspace\\xgboost-win64_release_0.90\\src\\tree\\updater_prune.cc:74: tree pruning end, 1 roots, 148 extra nodes, 0 pruned nodes, max_depth=10\n",
      "[04:35:04] INFO: C:\\Jenkins\\workspace\\xgboost-win64_release_0.90\\src\\tree\\updater_prune.cc:74: tree pruning end, 1 roots, 144 extra nodes, 0 pruned nodes, max_depth=10\n"
     ]
    },
    {
     "name": "stdout",
     "output_type": "stream",
     "text": [
      "[04:35:04] INFO: C:\\Jenkins\\workspace\\xgboost-win64_release_0.90\\src\\tree\\updater_prune.cc:74: tree pruning end, 1 roots, 116 extra nodes, 0 pruned nodes, max_depth=10\n",
      "[04:35:05] INFO: C:\\Jenkins\\workspace\\xgboost-win64_release_0.90\\src\\tree\\updater_prune.cc:74: tree pruning end, 1 roots, 82 extra nodes, 0 pruned nodes, max_depth=10\n",
      "[04:35:05] INFO: C:\\Jenkins\\workspace\\xgboost-win64_release_0.90\\src\\tree\\updater_prune.cc:74: tree pruning end, 1 roots, 140 extra nodes, 0 pruned nodes, max_depth=10\n",
      "[04:35:06] INFO: C:\\Jenkins\\workspace\\xgboost-win64_release_0.90\\src\\tree\\updater_prune.cc:74: tree pruning end, 1 roots, 134 extra nodes, 0 pruned nodes, max_depth=10\n",
      "[04:35:06] INFO: C:\\Jenkins\\workspace\\xgboost-win64_release_0.90\\src\\tree\\updater_prune.cc:74: tree pruning end, 1 roots, 108 extra nodes, 0 pruned nodes, max_depth=10\n",
      "[04:35:07] INFO: C:\\Jenkins\\workspace\\xgboost-win64_release_0.90\\src\\tree\\updater_prune.cc:74: tree pruning end, 1 roots, 120 extra nodes, 0 pruned nodes, max_depth=10\n",
      "[04:35:07] INFO: C:\\Jenkins\\workspace\\xgboost-win64_release_0.90\\src\\tree\\updater_prune.cc:74: tree pruning end, 1 roots, 128 extra nodes, 0 pruned nodes, max_depth=10\n",
      "[04:35:08] INFO: C:\\Jenkins\\workspace\\xgboost-win64_release_0.90\\src\\tree\\updater_prune.cc:74: tree pruning end, 1 roots, 124 extra nodes, 0 pruned nodes, max_depth=10\n",
      "[04:35:08] INFO: C:\\Jenkins\\workspace\\xgboost-win64_release_0.90\\src\\tree\\updater_prune.cc:74: tree pruning end, 1 roots, 146 extra nodes, 0 pruned nodes, max_depth=10\n",
      "[04:35:09] INFO: C:\\Jenkins\\workspace\\xgboost-win64_release_0.90\\src\\tree\\updater_prune.cc:74: tree pruning end, 1 roots, 114 extra nodes, 0 pruned nodes, max_depth=10\n",
      "[04:35:10] INFO: C:\\Jenkins\\workspace\\xgboost-win64_release_0.90\\src\\tree\\updater_prune.cc:74: tree pruning end, 1 roots, 136 extra nodes, 0 pruned nodes, max_depth=10\n",
      "[04:35:10] INFO: C:\\Jenkins\\workspace\\xgboost-win64_release_0.90\\src\\tree\\updater_prune.cc:74: tree pruning end, 1 roots, 132 extra nodes, 0 pruned nodes, max_depth=10\n",
      "[04:35:11] INFO: C:\\Jenkins\\workspace\\xgboost-win64_release_0.90\\src\\tree\\updater_prune.cc:74: tree pruning end, 1 roots, 154 extra nodes, 0 pruned nodes, max_depth=10\n",
      "[04:35:11] INFO: C:\\Jenkins\\workspace\\xgboost-win64_release_0.90\\src\\tree\\updater_prune.cc:74: tree pruning end, 1 roots, 160 extra nodes, 0 pruned nodes, max_depth=10\n",
      "[04:35:12] INFO: C:\\Jenkins\\workspace\\xgboost-win64_release_0.90\\src\\tree\\updater_prune.cc:74: tree pruning end, 1 roots, 168 extra nodes, 0 pruned nodes, max_depth=10\n",
      "[04:35:12] INFO: C:\\Jenkins\\workspace\\xgboost-win64_release_0.90\\src\\tree\\updater_prune.cc:74: tree pruning end, 1 roots, 128 extra nodes, 0 pruned nodes, max_depth=10\n",
      "[04:35:13] INFO: C:\\Jenkins\\workspace\\xgboost-win64_release_0.90\\src\\tree\\updater_prune.cc:74: tree pruning end, 1 roots, 102 extra nodes, 0 pruned nodes, max_depth=10\n",
      "[04:35:13] INFO: C:\\Jenkins\\workspace\\xgboost-win64_release_0.90\\src\\tree\\updater_prune.cc:74: tree pruning end, 1 roots, 122 extra nodes, 0 pruned nodes, max_depth=10\n",
      "[04:35:14] INFO: C:\\Jenkins\\workspace\\xgboost-win64_release_0.90\\src\\tree\\updater_prune.cc:74: tree pruning end, 1 roots, 130 extra nodes, 0 pruned nodes, max_depth=10\n",
      "[04:35:14] INFO: C:\\Jenkins\\workspace\\xgboost-win64_release_0.90\\src\\tree\\updater_prune.cc:74: tree pruning end, 1 roots, 96 extra nodes, 0 pruned nodes, max_depth=10\n",
      "[04:35:15] INFO: C:\\Jenkins\\workspace\\xgboost-win64_release_0.90\\src\\tree\\updater_prune.cc:74: tree pruning end, 1 roots, 142 extra nodes, 0 pruned nodes, max_depth=10\n",
      "[04:35:16] INFO: C:\\Jenkins\\workspace\\xgboost-win64_release_0.90\\src\\tree\\updater_prune.cc:74: tree pruning end, 1 roots, 112 extra nodes, 0 pruned nodes, max_depth=10\n",
      "[04:35:16] INFO: C:\\Jenkins\\workspace\\xgboost-win64_release_0.90\\src\\tree\\updater_prune.cc:74: tree pruning end, 1 roots, 142 extra nodes, 0 pruned nodes, max_depth=10\n",
      "[04:35:17] INFO: C:\\Jenkins\\workspace\\xgboost-win64_release_0.90\\src\\tree\\updater_prune.cc:74: tree pruning end, 1 roots, 134 extra nodes, 0 pruned nodes, max_depth=10\n",
      "[04:35:17] INFO: C:\\Jenkins\\workspace\\xgboost-win64_release_0.90\\src\\tree\\updater_prune.cc:74: tree pruning end, 1 roots, 134 extra nodes, 0 pruned nodes, max_depth=10\n",
      "[04:35:18] INFO: C:\\Jenkins\\workspace\\xgboost-win64_release_0.90\\src\\tree\\updater_prune.cc:74: tree pruning end, 1 roots, 114 extra nodes, 0 pruned nodes, max_depth=10\n",
      "[04:35:18] INFO: C:\\Jenkins\\workspace\\xgboost-win64_release_0.90\\src\\tree\\updater_prune.cc:74: tree pruning end, 1 roots, 128 extra nodes, 0 pruned nodes, max_depth=10\n",
      "[04:35:19] INFO: C:\\Jenkins\\workspace\\xgboost-win64_release_0.90\\src\\tree\\updater_prune.cc:74: tree pruning end, 1 roots, 100 extra nodes, 0 pruned nodes, max_depth=10\n",
      "[04:35:19] INFO: C:\\Jenkins\\workspace\\xgboost-win64_release_0.90\\src\\tree\\updater_prune.cc:74: tree pruning end, 1 roots, 92 extra nodes, 0 pruned nodes, max_depth=10\n",
      "[04:35:20] INFO: C:\\Jenkins\\workspace\\xgboost-win64_release_0.90\\src\\tree\\updater_prune.cc:74: tree pruning end, 1 roots, 154 extra nodes, 0 pruned nodes, max_depth=10\n",
      "[04:35:20] INFO: C:\\Jenkins\\workspace\\xgboost-win64_release_0.90\\src\\tree\\updater_prune.cc:74: tree pruning end, 1 roots, 128 extra nodes, 0 pruned nodes, max_depth=10\n",
      "[04:35:21] INFO: C:\\Jenkins\\workspace\\xgboost-win64_release_0.90\\src\\tree\\updater_prune.cc:74: tree pruning end, 1 roots, 124 extra nodes, 0 pruned nodes, max_depth=10\n",
      "[04:35:22] INFO: C:\\Jenkins\\workspace\\xgboost-win64_release_0.90\\src\\tree\\updater_prune.cc:74: tree pruning end, 1 roots, 142 extra nodes, 0 pruned nodes, max_depth=10\n",
      "[04:35:22] INFO: C:\\Jenkins\\workspace\\xgboost-win64_release_0.90\\src\\tree\\updater_prune.cc:74: tree pruning end, 1 roots, 134 extra nodes, 0 pruned nodes, max_depth=10\n",
      "[04:35:23] INFO: C:\\Jenkins\\workspace\\xgboost-win64_release_0.90\\src\\tree\\updater_prune.cc:74: tree pruning end, 1 roots, 118 extra nodes, 0 pruned nodes, max_depth=10\n",
      "[04:35:23] INFO: C:\\Jenkins\\workspace\\xgboost-win64_release_0.90\\src\\tree\\updater_prune.cc:74: tree pruning end, 1 roots, 140 extra nodes, 0 pruned nodes, max_depth=10\n",
      "[04:35:24] INFO: C:\\Jenkins\\workspace\\xgboost-win64_release_0.90\\src\\tree\\updater_prune.cc:74: tree pruning end, 1 roots, 126 extra nodes, 0 pruned nodes, max_depth=10\n",
      "[04:35:24] INFO: C:\\Jenkins\\workspace\\xgboost-win64_release_0.90\\src\\tree\\updater_prune.cc:74: tree pruning end, 1 roots, 100 extra nodes, 0 pruned nodes, max_depth=10\n",
      "[04:35:25] INFO: C:\\Jenkins\\workspace\\xgboost-win64_release_0.90\\src\\tree\\updater_prune.cc:74: tree pruning end, 1 roots, 100 extra nodes, 0 pruned nodes, max_depth=10\n",
      "[04:35:25] INFO: C:\\Jenkins\\workspace\\xgboost-win64_release_0.90\\src\\tree\\updater_prune.cc:74: tree pruning end, 1 roots, 168 extra nodes, 0 pruned nodes, max_depth=10\n",
      "[04:35:26] INFO: C:\\Jenkins\\workspace\\xgboost-win64_release_0.90\\src\\tree\\updater_prune.cc:74: tree pruning end, 1 roots, 88 extra nodes, 0 pruned nodes, max_depth=10\n",
      "[04:35:26] INFO: C:\\Jenkins\\workspace\\xgboost-win64_release_0.90\\src\\tree\\updater_prune.cc:74: tree pruning end, 1 roots, 136 extra nodes, 0 pruned nodes, max_depth=10\n",
      "[04:35:27] INFO: C:\\Jenkins\\workspace\\xgboost-win64_release_0.90\\src\\tree\\updater_prune.cc:74: tree pruning end, 1 roots, 130 extra nodes, 0 pruned nodes, max_depth=10\n",
      "[04:35:27] INFO: C:\\Jenkins\\workspace\\xgboost-win64_release_0.90\\src\\tree\\updater_prune.cc:74: tree pruning end, 1 roots, 84 extra nodes, 0 pruned nodes, max_depth=10\n",
      "[04:35:28] INFO: C:\\Jenkins\\workspace\\xgboost-win64_release_0.90\\src\\tree\\updater_prune.cc:74: tree pruning end, 1 roots, 150 extra nodes, 0 pruned nodes, max_depth=10\n",
      "[04:35:28] INFO: C:\\Jenkins\\workspace\\xgboost-win64_release_0.90\\src\\tree\\updater_prune.cc:74: tree pruning end, 1 roots, 132 extra nodes, 0 pruned nodes, max_depth=10\n",
      "[04:35:29] INFO: C:\\Jenkins\\workspace\\xgboost-win64_release_0.90\\src\\tree\\updater_prune.cc:74: tree pruning end, 1 roots, 144 extra nodes, 0 pruned nodes, max_depth=10\n",
      "[04:35:30] INFO: C:\\Jenkins\\workspace\\xgboost-win64_release_0.90\\src\\tree\\updater_prune.cc:74: tree pruning end, 1 roots, 124 extra nodes, 0 pruned nodes, max_depth=10\n",
      "[04:35:30] INFO: C:\\Jenkins\\workspace\\xgboost-win64_release_0.90\\src\\tree\\updater_prune.cc:74: tree pruning end, 1 roots, 104 extra nodes, 0 pruned nodes, max_depth=10\n"
     ]
    },
    {
     "name": "stdout",
     "output_type": "stream",
     "text": [
      "[04:35:31] INFO: C:\\Jenkins\\workspace\\xgboost-win64_release_0.90\\src\\tree\\updater_prune.cc:74: tree pruning end, 1 roots, 132 extra nodes, 0 pruned nodes, max_depth=10\n",
      "[04:35:31] INFO: C:\\Jenkins\\workspace\\xgboost-win64_release_0.90\\src\\tree\\updater_prune.cc:74: tree pruning end, 1 roots, 136 extra nodes, 0 pruned nodes, max_depth=10\n",
      "[04:35:32] INFO: C:\\Jenkins\\workspace\\xgboost-win64_release_0.90\\src\\tree\\updater_prune.cc:74: tree pruning end, 1 roots, 162 extra nodes, 0 pruned nodes, max_depth=10\n",
      "[04:35:32] INFO: C:\\Jenkins\\workspace\\xgboost-win64_release_0.90\\src\\tree\\updater_prune.cc:74: tree pruning end, 1 roots, 96 extra nodes, 0 pruned nodes, max_depth=10\n",
      "[04:35:33] INFO: C:\\Jenkins\\workspace\\xgboost-win64_release_0.90\\src\\tree\\updater_prune.cc:74: tree pruning end, 1 roots, 150 extra nodes, 0 pruned nodes, max_depth=10\n",
      "[04:35:33] INFO: C:\\Jenkins\\workspace\\xgboost-win64_release_0.90\\src\\tree\\updater_prune.cc:74: tree pruning end, 1 roots, 132 extra nodes, 0 pruned nodes, max_depth=10\n",
      "[04:35:34] INFO: C:\\Jenkins\\workspace\\xgboost-win64_release_0.90\\src\\tree\\updater_prune.cc:74: tree pruning end, 1 roots, 106 extra nodes, 0 pruned nodes, max_depth=10\n",
      "[04:35:34] INFO: C:\\Jenkins\\workspace\\xgboost-win64_release_0.90\\src\\tree\\updater_prune.cc:74: tree pruning end, 1 roots, 108 extra nodes, 0 pruned nodes, max_depth=10\n",
      "[04:35:35] INFO: C:\\Jenkins\\workspace\\xgboost-win64_release_0.90\\src\\tree\\updater_prune.cc:74: tree pruning end, 1 roots, 136 extra nodes, 0 pruned nodes, max_depth=10\n",
      "[04:35:36] INFO: C:\\Jenkins\\workspace\\xgboost-win64_release_0.90\\src\\tree\\updater_prune.cc:74: tree pruning end, 1 roots, 122 extra nodes, 0 pruned nodes, max_depth=10\n",
      "[04:35:36] INFO: C:\\Jenkins\\workspace\\xgboost-win64_release_0.90\\src\\tree\\updater_prune.cc:74: tree pruning end, 1 roots, 96 extra nodes, 0 pruned nodes, max_depth=10\n",
      "[04:35:37] INFO: C:\\Jenkins\\workspace\\xgboost-win64_release_0.90\\src\\tree\\updater_prune.cc:74: tree pruning end, 1 roots, 140 extra nodes, 0 pruned nodes, max_depth=10\n",
      "[04:35:37] INFO: C:\\Jenkins\\workspace\\xgboost-win64_release_0.90\\src\\tree\\updater_prune.cc:74: tree pruning end, 1 roots, 130 extra nodes, 0 pruned nodes, max_depth=10\n",
      "[04:35:38] INFO: C:\\Jenkins\\workspace\\xgboost-win64_release_0.90\\src\\tree\\updater_prune.cc:74: tree pruning end, 1 roots, 120 extra nodes, 0 pruned nodes, max_depth=10\n",
      "[04:35:38] INFO: C:\\Jenkins\\workspace\\xgboost-win64_release_0.90\\src\\tree\\updater_prune.cc:74: tree pruning end, 1 roots, 116 extra nodes, 0 pruned nodes, max_depth=10\n",
      "[04:35:39] INFO: C:\\Jenkins\\workspace\\xgboost-win64_release_0.90\\src\\tree\\updater_prune.cc:74: tree pruning end, 1 roots, 84 extra nodes, 0 pruned nodes, max_depth=10\n",
      "[04:35:39] INFO: C:\\Jenkins\\workspace\\xgboost-win64_release_0.90\\src\\tree\\updater_prune.cc:74: tree pruning end, 1 roots, 124 extra nodes, 0 pruned nodes, max_depth=10\n",
      "[04:35:40] INFO: C:\\Jenkins\\workspace\\xgboost-win64_release_0.90\\src\\tree\\updater_prune.cc:74: tree pruning end, 1 roots, 96 extra nodes, 0 pruned nodes, max_depth=10\n",
      "[04:35:40] INFO: C:\\Jenkins\\workspace\\xgboost-win64_release_0.90\\src\\tree\\updater_prune.cc:74: tree pruning end, 1 roots, 92 extra nodes, 0 pruned nodes, max_depth=10\n",
      "[04:35:41] INFO: C:\\Jenkins\\workspace\\xgboost-win64_release_0.90\\src\\tree\\updater_prune.cc:74: tree pruning end, 1 roots, 144 extra nodes, 0 pruned nodes, max_depth=10\n",
      "[04:35:41] INFO: C:\\Jenkins\\workspace\\xgboost-win64_release_0.90\\src\\tree\\updater_prune.cc:74: tree pruning end, 1 roots, 96 extra nodes, 0 pruned nodes, max_depth=10\n",
      "[04:35:42] INFO: C:\\Jenkins\\workspace\\xgboost-win64_release_0.90\\src\\tree\\updater_prune.cc:74: tree pruning end, 1 roots, 96 extra nodes, 0 pruned nodes, max_depth=10\n",
      "[04:35:42] INFO: C:\\Jenkins\\workspace\\xgboost-win64_release_0.90\\src\\tree\\updater_prune.cc:74: tree pruning end, 1 roots, 132 extra nodes, 0 pruned nodes, max_depth=10\n",
      "[04:35:43] INFO: C:\\Jenkins\\workspace\\xgboost-win64_release_0.90\\src\\tree\\updater_prune.cc:74: tree pruning end, 1 roots, 154 extra nodes, 0 pruned nodes, max_depth=10\n",
      "[04:35:44] INFO: C:\\Jenkins\\workspace\\xgboost-win64_release_0.90\\src\\tree\\updater_prune.cc:74: tree pruning end, 1 roots, 100 extra nodes, 0 pruned nodes, max_depth=10\n",
      "[04:35:44] INFO: C:\\Jenkins\\workspace\\xgboost-win64_release_0.90\\src\\tree\\updater_prune.cc:74: tree pruning end, 1 roots, 126 extra nodes, 0 pruned nodes, max_depth=10\n",
      "[04:35:45] INFO: C:\\Jenkins\\workspace\\xgboost-win64_release_0.90\\src\\tree\\updater_prune.cc:74: tree pruning end, 1 roots, 100 extra nodes, 0 pruned nodes, max_depth=10\n",
      "[04:35:45] INFO: C:\\Jenkins\\workspace\\xgboost-win64_release_0.90\\src\\tree\\updater_prune.cc:74: tree pruning end, 1 roots, 104 extra nodes, 0 pruned nodes, max_depth=10\n",
      "[04:35:46] INFO: C:\\Jenkins\\workspace\\xgboost-win64_release_0.90\\src\\tree\\updater_prune.cc:74: tree pruning end, 1 roots, 110 extra nodes, 0 pruned nodes, max_depth=10\n",
      "[04:35:46] INFO: C:\\Jenkins\\workspace\\xgboost-win64_release_0.90\\src\\tree\\updater_prune.cc:74: tree pruning end, 1 roots, 112 extra nodes, 0 pruned nodes, max_depth=10\n",
      "[04:35:47] INFO: C:\\Jenkins\\workspace\\xgboost-win64_release_0.90\\src\\tree\\updater_prune.cc:74: tree pruning end, 1 roots, 90 extra nodes, 0 pruned nodes, max_depth=10\n",
      "[04:35:47] INFO: C:\\Jenkins\\workspace\\xgboost-win64_release_0.90\\src\\tree\\updater_prune.cc:74: tree pruning end, 1 roots, 152 extra nodes, 0 pruned nodes, max_depth=10\n",
      "[04:35:48] INFO: C:\\Jenkins\\workspace\\xgboost-win64_release_0.90\\src\\tree\\updater_prune.cc:74: tree pruning end, 1 roots, 114 extra nodes, 0 pruned nodes, max_depth=10\n",
      "[04:35:48] INFO: C:\\Jenkins\\workspace\\xgboost-win64_release_0.90\\src\\tree\\updater_prune.cc:74: tree pruning end, 1 roots, 88 extra nodes, 0 pruned nodes, max_depth=10\n",
      "[04:35:49] INFO: C:\\Jenkins\\workspace\\xgboost-win64_release_0.90\\src\\tree\\updater_prune.cc:74: tree pruning end, 1 roots, 128 extra nodes, 0 pruned nodes, max_depth=10\n",
      "[04:35:49] INFO: C:\\Jenkins\\workspace\\xgboost-win64_release_0.90\\src\\tree\\updater_prune.cc:74: tree pruning end, 1 roots, 96 extra nodes, 0 pruned nodes, max_depth=10\n",
      "[04:35:50] INFO: C:\\Jenkins\\workspace\\xgboost-win64_release_0.90\\src\\tree\\updater_prune.cc:74: tree pruning end, 1 roots, 98 extra nodes, 0 pruned nodes, max_depth=10\n",
      "[04:35:50] INFO: C:\\Jenkins\\workspace\\xgboost-win64_release_0.90\\src\\tree\\updater_prune.cc:74: tree pruning end, 1 roots, 84 extra nodes, 0 pruned nodes, max_depth=10\n",
      "[04:35:51] INFO: C:\\Jenkins\\workspace\\xgboost-win64_release_0.90\\src\\tree\\updater_prune.cc:74: tree pruning end, 1 roots, 98 extra nodes, 0 pruned nodes, max_depth=10\n",
      "[04:35:51] INFO: C:\\Jenkins\\workspace\\xgboost-win64_release_0.90\\src\\tree\\updater_prune.cc:74: tree pruning end, 1 roots, 90 extra nodes, 0 pruned nodes, max_depth=10\n",
      "[04:35:52] INFO: C:\\Jenkins\\workspace\\xgboost-win64_release_0.90\\src\\tree\\updater_prune.cc:74: tree pruning end, 1 roots, 154 extra nodes, 0 pruned nodes, max_depth=10\n",
      "[04:35:52] INFO: C:\\Jenkins\\workspace\\xgboost-win64_release_0.90\\src\\tree\\updater_prune.cc:74: tree pruning end, 1 roots, 138 extra nodes, 0 pruned nodes, max_depth=10\n",
      "[04:35:53] INFO: C:\\Jenkins\\workspace\\xgboost-win64_release_0.90\\src\\tree\\updater_prune.cc:74: tree pruning end, 1 roots, 118 extra nodes, 0 pruned nodes, max_depth=10\n",
      "[04:35:53] INFO: C:\\Jenkins\\workspace\\xgboost-win64_release_0.90\\src\\tree\\updater_prune.cc:74: tree pruning end, 1 roots, 98 extra nodes, 0 pruned nodes, max_depth=10\n",
      "[04:35:54] INFO: C:\\Jenkins\\workspace\\xgboost-win64_release_0.90\\src\\tree\\updater_prune.cc:74: tree pruning end, 1 roots, 126 extra nodes, 0 pruned nodes, max_depth=10\n",
      "[04:35:55] INFO: C:\\Jenkins\\workspace\\xgboost-win64_release_0.90\\src\\tree\\updater_prune.cc:74: tree pruning end, 1 roots, 90 extra nodes, 0 pruned nodes, max_depth=10\n",
      "[04:35:55] INFO: C:\\Jenkins\\workspace\\xgboost-win64_release_0.90\\src\\tree\\updater_prune.cc:74: tree pruning end, 1 roots, 148 extra nodes, 0 pruned nodes, max_depth=10\n",
      "[04:35:56] INFO: C:\\Jenkins\\workspace\\xgboost-win64_release_0.90\\src\\tree\\updater_prune.cc:74: tree pruning end, 1 roots, 144 extra nodes, 0 pruned nodes, max_depth=10\n",
      "[04:35:56] INFO: C:\\Jenkins\\workspace\\xgboost-win64_release_0.90\\src\\tree\\updater_prune.cc:74: tree pruning end, 1 roots, 98 extra nodes, 0 pruned nodes, max_depth=10\n"
     ]
    },
    {
     "name": "stdout",
     "output_type": "stream",
     "text": [
      "[04:35:57] INFO: C:\\Jenkins\\workspace\\xgboost-win64_release_0.90\\src\\tree\\updater_prune.cc:74: tree pruning end, 1 roots, 120 extra nodes, 0 pruned nodes, max_depth=10\n",
      "[04:35:57] INFO: C:\\Jenkins\\workspace\\xgboost-win64_release_0.90\\src\\tree\\updater_prune.cc:74: tree pruning end, 1 roots, 98 extra nodes, 0 pruned nodes, max_depth=10\n",
      "[04:35:58] INFO: C:\\Jenkins\\workspace\\xgboost-win64_release_0.90\\src\\tree\\updater_prune.cc:74: tree pruning end, 1 roots, 88 extra nodes, 0 pruned nodes, max_depth=10\n",
      "[04:35:58] INFO: C:\\Jenkins\\workspace\\xgboost-win64_release_0.90\\src\\tree\\updater_prune.cc:74: tree pruning end, 1 roots, 136 extra nodes, 0 pruned nodes, max_depth=10\n",
      "[04:35:59] INFO: C:\\Jenkins\\workspace\\xgboost-win64_release_0.90\\src\\tree\\updater_prune.cc:74: tree pruning end, 1 roots, 106 extra nodes, 0 pruned nodes, max_depth=10\n",
      "[04:35:59] INFO: C:\\Jenkins\\workspace\\xgboost-win64_release_0.90\\src\\tree\\updater_prune.cc:74: tree pruning end, 1 roots, 190 extra nodes, 0 pruned nodes, max_depth=10\n",
      "[04:36:00] INFO: C:\\Jenkins\\workspace\\xgboost-win64_release_0.90\\src\\tree\\updater_prune.cc:74: tree pruning end, 1 roots, 120 extra nodes, 0 pruned nodes, max_depth=10\n",
      "[04:36:00] INFO: C:\\Jenkins\\workspace\\xgboost-win64_release_0.90\\src\\tree\\updater_prune.cc:74: tree pruning end, 1 roots, 106 extra nodes, 0 pruned nodes, max_depth=10\n",
      "[04:36:01] INFO: C:\\Jenkins\\workspace\\xgboost-win64_release_0.90\\src\\tree\\updater_prune.cc:74: tree pruning end, 1 roots, 114 extra nodes, 0 pruned nodes, max_depth=10\n",
      "[04:36:01] INFO: C:\\Jenkins\\workspace\\xgboost-win64_release_0.90\\src\\tree\\updater_prune.cc:74: tree pruning end, 1 roots, 100 extra nodes, 0 pruned nodes, max_depth=10\n",
      "[04:36:02] INFO: C:\\Jenkins\\workspace\\xgboost-win64_release_0.90\\src\\tree\\updater_prune.cc:74: tree pruning end, 1 roots, 102 extra nodes, 0 pruned nodes, max_depth=10\n",
      "[04:36:02] INFO: C:\\Jenkins\\workspace\\xgboost-win64_release_0.90\\src\\tree\\updater_prune.cc:74: tree pruning end, 1 roots, 104 extra nodes, 0 pruned nodes, max_depth=10\n",
      "[04:36:03] INFO: C:\\Jenkins\\workspace\\xgboost-win64_release_0.90\\src\\tree\\updater_prune.cc:74: tree pruning end, 1 roots, 122 extra nodes, 0 pruned nodes, max_depth=10\n",
      "[04:36:03] INFO: C:\\Jenkins\\workspace\\xgboost-win64_release_0.90\\src\\tree\\updater_prune.cc:74: tree pruning end, 1 roots, 96 extra nodes, 0 pruned nodes, max_depth=10\n",
      "[04:36:04] INFO: C:\\Jenkins\\workspace\\xgboost-win64_release_0.90\\src\\tree\\updater_prune.cc:74: tree pruning end, 1 roots, 120 extra nodes, 0 pruned nodes, max_depth=10\n",
      "[04:36:04] INFO: C:\\Jenkins\\workspace\\xgboost-win64_release_0.90\\src\\tree\\updater_prune.cc:74: tree pruning end, 1 roots, 98 extra nodes, 0 pruned nodes, max_depth=10\n",
      "[04:36:05] INFO: C:\\Jenkins\\workspace\\xgboost-win64_release_0.90\\src\\tree\\updater_prune.cc:74: tree pruning end, 1 roots, 142 extra nodes, 0 pruned nodes, max_depth=10\n",
      "[04:36:06] INFO: C:\\Jenkins\\workspace\\xgboost-win64_release_0.90\\src\\tree\\updater_prune.cc:74: tree pruning end, 1 roots, 74 extra nodes, 0 pruned nodes, max_depth=10\n",
      "[04:36:06] INFO: C:\\Jenkins\\workspace\\xgboost-win64_release_0.90\\src\\tree\\updater_prune.cc:74: tree pruning end, 1 roots, 134 extra nodes, 0 pruned nodes, max_depth=10\n",
      "[04:36:07] INFO: C:\\Jenkins\\workspace\\xgboost-win64_release_0.90\\src\\tree\\updater_prune.cc:74: tree pruning end, 1 roots, 68 extra nodes, 0 pruned nodes, max_depth=10\n",
      "[04:36:07] INFO: C:\\Jenkins\\workspace\\xgboost-win64_release_0.90\\src\\tree\\updater_prune.cc:74: tree pruning end, 1 roots, 82 extra nodes, 0 pruned nodes, max_depth=10\n",
      "[04:36:08] INFO: C:\\Jenkins\\workspace\\xgboost-win64_release_0.90\\src\\tree\\updater_prune.cc:74: tree pruning end, 1 roots, 152 extra nodes, 0 pruned nodes, max_depth=10\n",
      "[04:36:08] INFO: C:\\Jenkins\\workspace\\xgboost-win64_release_0.90\\src\\tree\\updater_prune.cc:74: tree pruning end, 1 roots, 140 extra nodes, 0 pruned nodes, max_depth=10\n",
      "[04:36:09] INFO: C:\\Jenkins\\workspace\\xgboost-win64_release_0.90\\src\\tree\\updater_prune.cc:74: tree pruning end, 1 roots, 80 extra nodes, 0 pruned nodes, max_depth=10\n",
      "[04:36:09] INFO: C:\\Jenkins\\workspace\\xgboost-win64_release_0.90\\src\\tree\\updater_prune.cc:74: tree pruning end, 1 roots, 154 extra nodes, 0 pruned nodes, max_depth=10\n",
      "[04:36:10] INFO: C:\\Jenkins\\workspace\\xgboost-win64_release_0.90\\src\\tree\\updater_prune.cc:74: tree pruning end, 1 roots, 110 extra nodes, 0 pruned nodes, max_depth=10\n",
      "[04:36:10] INFO: C:\\Jenkins\\workspace\\xgboost-win64_release_0.90\\src\\tree\\updater_prune.cc:74: tree pruning end, 1 roots, 64 extra nodes, 0 pruned nodes, max_depth=10\n",
      "[04:36:11] INFO: C:\\Jenkins\\workspace\\xgboost-win64_release_0.90\\src\\tree\\updater_prune.cc:74: tree pruning end, 1 roots, 106 extra nodes, 0 pruned nodes, max_depth=10\n",
      "[04:36:12] INFO: C:\\Jenkins\\workspace\\xgboost-win64_release_0.90\\src\\tree\\updater_prune.cc:74: tree pruning end, 1 roots, 108 extra nodes, 0 pruned nodes, max_depth=10\n",
      "[04:36:12] INFO: C:\\Jenkins\\workspace\\xgboost-win64_release_0.90\\src\\tree\\updater_prune.cc:74: tree pruning end, 1 roots, 84 extra nodes, 0 pruned nodes, max_depth=10\n",
      "[04:36:13] INFO: C:\\Jenkins\\workspace\\xgboost-win64_release_0.90\\src\\tree\\updater_prune.cc:74: tree pruning end, 1 roots, 134 extra nodes, 0 pruned nodes, max_depth=10\n",
      "[04:36:13] INFO: C:\\Jenkins\\workspace\\xgboost-win64_release_0.90\\src\\tree\\updater_prune.cc:74: tree pruning end, 1 roots, 114 extra nodes, 0 pruned nodes, max_depth=10\n",
      "[04:36:14] INFO: C:\\Jenkins\\workspace\\xgboost-win64_release_0.90\\src\\tree\\updater_prune.cc:74: tree pruning end, 1 roots, 122 extra nodes, 0 pruned nodes, max_depth=10\n",
      "[04:36:14] INFO: C:\\Jenkins\\workspace\\xgboost-win64_release_0.90\\src\\tree\\updater_prune.cc:74: tree pruning end, 1 roots, 132 extra nodes, 0 pruned nodes, max_depth=10\n",
      "[04:36:15] INFO: C:\\Jenkins\\workspace\\xgboost-win64_release_0.90\\src\\tree\\updater_prune.cc:74: tree pruning end, 1 roots, 74 extra nodes, 0 pruned nodes, max_depth=10\n",
      "[04:36:15] INFO: C:\\Jenkins\\workspace\\xgboost-win64_release_0.90\\src\\tree\\updater_prune.cc:74: tree pruning end, 1 roots, 80 extra nodes, 0 pruned nodes, max_depth=10\n",
      "[04:36:16] INFO: C:\\Jenkins\\workspace\\xgboost-win64_release_0.90\\src\\tree\\updater_prune.cc:74: tree pruning end, 1 roots, 150 extra nodes, 0 pruned nodes, max_depth=10\n",
      "[04:36:16] INFO: C:\\Jenkins\\workspace\\xgboost-win64_release_0.90\\src\\tree\\updater_prune.cc:74: tree pruning end, 1 roots, 112 extra nodes, 0 pruned nodes, max_depth=10\n",
      "[04:36:17] INFO: C:\\Jenkins\\workspace\\xgboost-win64_release_0.90\\src\\tree\\updater_prune.cc:74: tree pruning end, 1 roots, 108 extra nodes, 0 pruned nodes, max_depth=10\n",
      "[04:36:17] INFO: C:\\Jenkins\\workspace\\xgboost-win64_release_0.90\\src\\tree\\updater_prune.cc:74: tree pruning end, 1 roots, 92 extra nodes, 0 pruned nodes, max_depth=10\n",
      "[04:36:18] INFO: C:\\Jenkins\\workspace\\xgboost-win64_release_0.90\\src\\tree\\updater_prune.cc:74: tree pruning end, 1 roots, 120 extra nodes, 0 pruned nodes, max_depth=10\n",
      "[04:36:19] INFO: C:\\Jenkins\\workspace\\xgboost-win64_release_0.90\\src\\tree\\updater_prune.cc:74: tree pruning end, 1 roots, 70 extra nodes, 0 pruned nodes, max_depth=10\n",
      "[04:36:19] INFO: C:\\Jenkins\\workspace\\xgboost-win64_release_0.90\\src\\tree\\updater_prune.cc:74: tree pruning end, 1 roots, 130 extra nodes, 0 pruned nodes, max_depth=10\n",
      "[04:36:20] INFO: C:\\Jenkins\\workspace\\xgboost-win64_release_0.90\\src\\tree\\updater_prune.cc:74: tree pruning end, 1 roots, 104 extra nodes, 0 pruned nodes, max_depth=10\n",
      "[04:36:20] INFO: C:\\Jenkins\\workspace\\xgboost-win64_release_0.90\\src\\tree\\updater_prune.cc:74: tree pruning end, 1 roots, 106 extra nodes, 0 pruned nodes, max_depth=10\n",
      "[04:36:21] INFO: C:\\Jenkins\\workspace\\xgboost-win64_release_0.90\\src\\tree\\updater_prune.cc:74: tree pruning end, 1 roots, 108 extra nodes, 0 pruned nodes, max_depth=10\n",
      "[04:36:21] INFO: C:\\Jenkins\\workspace\\xgboost-win64_release_0.90\\src\\tree\\updater_prune.cc:74: tree pruning end, 1 roots, 112 extra nodes, 0 pruned nodes, max_depth=10\n",
      "[04:36:22] INFO: C:\\Jenkins\\workspace\\xgboost-win64_release_0.90\\src\\tree\\updater_prune.cc:74: tree pruning end, 1 roots, 64 extra nodes, 0 pruned nodes, max_depth=10\n",
      "[04:36:22] INFO: C:\\Jenkins\\workspace\\xgboost-win64_release_0.90\\src\\tree\\updater_prune.cc:74: tree pruning end, 1 roots, 104 extra nodes, 0 pruned nodes, max_depth=10\n"
     ]
    },
    {
     "name": "stdout",
     "output_type": "stream",
     "text": [
      "[04:36:23] INFO: C:\\Jenkins\\workspace\\xgboost-win64_release_0.90\\src\\tree\\updater_prune.cc:74: tree pruning end, 1 roots, 84 extra nodes, 0 pruned nodes, max_depth=10\n",
      "[04:36:23] INFO: C:\\Jenkins\\workspace\\xgboost-win64_release_0.90\\src\\tree\\updater_prune.cc:74: tree pruning end, 1 roots, 92 extra nodes, 0 pruned nodes, max_depth=10\n",
      "[04:36:24] INFO: C:\\Jenkins\\workspace\\xgboost-win64_release_0.90\\src\\tree\\updater_prune.cc:74: tree pruning end, 1 roots, 154 extra nodes, 0 pruned nodes, max_depth=10\n",
      "[04:36:24] INFO: C:\\Jenkins\\workspace\\xgboost-win64_release_0.90\\src\\tree\\updater_prune.cc:74: tree pruning end, 1 roots, 108 extra nodes, 0 pruned nodes, max_depth=10\n",
      "[04:36:25] INFO: C:\\Jenkins\\workspace\\xgboost-win64_release_0.90\\src\\tree\\updater_prune.cc:74: tree pruning end, 1 roots, 56 extra nodes, 0 pruned nodes, max_depth=10\n",
      "[04:36:25] INFO: C:\\Jenkins\\workspace\\xgboost-win64_release_0.90\\src\\tree\\updater_prune.cc:74: tree pruning end, 1 roots, 96 extra nodes, 0 pruned nodes, max_depth=10\n"
     ]
    }
   ],
   "source": [
    "xgb_params = {\"eta\": [0.01, 0.1, 0.2, 0.3], #Learning Rate\n",
    "              \"max_depth\":[3, 5, 8, 10],\n",
    "              \"min_child_weight \":[1, 7]}\n",
    "grid_xgb = GridSearchCV(xgboost.XGBClassifier(verbosity=2, eval_metric=\"merror\"), \n",
    "                       param_grid=xgb_params, \n",
    "                       scoring=\"f1_weighted\", \n",
    "                       verbose=2,\n",
    "                       n_jobs=-1)\n",
    "model = grid_xgb.fit(tf_idf_train, y_train)\n",
    "models[\"Extreme Gradient Boosting Classifier\"] = model"
   ]
  },
  {
   "cell_type": "markdown",
   "metadata": {},
   "source": [
    "### [KNN]()"
   ]
  },
  {
   "cell_type": "code",
   "execution_count": 23,
   "metadata": {},
   "outputs": [],
   "source": [
    "# Usually scaling is done, but since we are using tf_idf, it is not needed\n",
    "\n",
    "# min_max_scaler = MinMaxScaler()\n",
    "\n",
    "# tf_idf_scaled_train = min_max_scaler.fit_transform(tf_idf_train)\n",
    "# tf_idf_scaled_test = min_max_scaler.transform(tf_idf_test)"
   ]
  },
  {
   "cell_type": "code",
   "execution_count": 24,
   "metadata": {},
   "outputs": [
    {
     "name": "stdout",
     "output_type": "stream",
     "text": [
      "Fitting 5 folds for each of 2 candidates, totalling 10 fits\n"
     ]
    },
    {
     "name": "stderr",
     "output_type": "stream",
     "text": [
      "D:\\ProgramData\\Anaconda3\\lib\\site-packages\\sklearn\\model_selection\\_search.py:972: UserWarning: One or more of the test scores are non-finite: [nan nan]\n",
      "  category=UserWarning,\n"
     ]
    }
   ],
   "source": [
    "knn_params = {\"metric\": [\"minkowski\", \"cosine\"]}\n",
    "grid_knn = GridSearchCV(KNeighborsClassifier( n_jobs=-1), \n",
    "                       param_grid=knn_params, \n",
    "                       scoring=\"f1_weighted\", \n",
    "                       verbose=2,\n",
    "                       n_jobs=-1)\n",
    "model = grid_knn.fit(tf_idf_train, y_train)\n",
    "models[\"KNeighbors Classifier\"] = model"
   ]
  },
  {
   "cell_type": "code",
   "execution_count": 25,
   "metadata": {},
   "outputs": [
    {
     "name": "stdout",
     "output_type": "stream",
     "text": [
      "\t\t\t----- Multinomial Naive Bayes -----\n",
      "\n",
      "              precision    recall  f1-score   support\n",
      "\n",
      "    Negative       0.62      0.67      0.64      2269\n",
      "     Neutral       0.63      0.25      0.36      1161\n",
      "    Positive       0.63      0.75      0.68      2741\n",
      "\n",
      "    accuracy                           0.63      6171\n",
      "   macro avg       0.63      0.56      0.56      6171\n",
      "weighted avg       0.63      0.63      0.61      6171\n",
      "\n",
      "\n",
      "\t\t\t----- Logistic Regression -----\n",
      "\n",
      "              precision    recall  f1-score   support\n",
      "\n",
      "    Negative       0.79      0.81      0.80      2269\n",
      "     Neutral       0.76      0.61      0.68      1161\n",
      "    Positive       0.81      0.86      0.84      2741\n",
      "\n",
      "    accuracy                           0.80      6171\n",
      "   macro avg       0.79      0.76      0.77      6171\n",
      "weighted avg       0.79      0.80      0.79      6171\n",
      "\n",
      "\n",
      "\t\t\t----- Support Vector Classification -----\n",
      "\n",
      "              precision    recall  f1-score   support\n",
      "\n",
      "    Negative       0.79      0.80      0.79      2269\n",
      "     Neutral       0.73      0.67      0.70      1161\n",
      "    Positive       0.83      0.84      0.83      2741\n",
      "\n",
      "    accuracy                           0.80      6171\n",
      "   macro avg       0.78      0.77      0.78      6171\n",
      "weighted avg       0.79      0.80      0.79      6171\n",
      "\n",
      "\n",
      "\t\t\t----- Random Forest Classifier -----\n",
      "\n",
      "              precision    recall  f1-score   support\n",
      "\n",
      "    Negative       0.79      0.80      0.79      2269\n",
      "     Neutral       0.73      0.67      0.70      1161\n",
      "    Positive       0.83      0.84      0.83      2741\n",
      "\n",
      "    accuracy                           0.80      6171\n",
      "   macro avg       0.78      0.77      0.78      6171\n",
      "weighted avg       0.79      0.80      0.79      6171\n",
      "\n",
      "\n",
      "\t\t\t----- Extreme Gradient Boosting Classifier -----\n",
      "\n",
      "              precision    recall  f1-score   support\n",
      "\n",
      "    Negative       0.74      0.68      0.71      2269\n",
      "     Neutral       0.63      0.65      0.64      1161\n",
      "    Positive       0.75      0.78      0.76      2741\n",
      "\n",
      "    accuracy                           0.72      6171\n",
      "   macro avg       0.71      0.71      0.70      6171\n",
      "weighted avg       0.72      0.72      0.72      6171\n",
      "\n",
      "\n",
      "\t\t\t----- KNeighbors Classifier -----\n",
      "\n",
      "              precision    recall  f1-score   support\n",
      "\n",
      "    Negative       0.78      0.04      0.07      2269\n",
      "     Neutral       0.19      0.99      0.32      1161\n",
      "    Positive       0.94      0.04      0.07      2741\n",
      "\n",
      "    accuracy                           0.22      6171\n",
      "   macro avg       0.64      0.36      0.15      6171\n",
      "weighted avg       0.74      0.22      0.12      6171\n",
      "\n",
      "\n"
     ]
    }
   ],
   "source": [
    "models_reviewer(models, tf_idf_test, y_test)"
   ]
  },
  {
   "cell_type": "code",
   "execution_count": null,
   "metadata": {},
   "outputs": [],
   "source": []
  },
  {
   "cell_type": "code",
   "execution_count": null,
   "metadata": {},
   "outputs": [],
   "source": []
  },
  {
   "cell_type": "code",
   "execution_count": null,
   "metadata": {},
   "outputs": [],
   "source": []
  },
  {
   "cell_type": "code",
   "execution_count": null,
   "metadata": {},
   "outputs": [],
   "source": []
  },
  {
   "cell_type": "code",
   "execution_count": null,
   "metadata": {},
   "outputs": [],
   "source": []
  },
  {
   "cell_type": "code",
   "execution_count": null,
   "metadata": {},
   "outputs": [],
   "source": []
  },
  {
   "cell_type": "code",
   "execution_count": null,
   "metadata": {},
   "outputs": [],
   "source": []
  },
  {
   "cell_type": "code",
   "execution_count": null,
   "metadata": {},
   "outputs": [],
   "source": []
  },
  {
   "cell_type": "code",
   "execution_count": null,
   "metadata": {},
   "outputs": [],
   "source": []
  },
  {
   "cell_type": "code",
   "execution_count": null,
   "metadata": {},
   "outputs": [],
   "source": []
  },
  {
   "cell_type": "code",
   "execution_count": null,
   "metadata": {},
   "outputs": [],
   "source": []
  }
 ],
 "metadata": {
  "colab": {
   "name": "Coronavirus Tweet Sentiment Analysis - Capstone Project.ipynb",
   "provenance": [
    {
     "file_id": "1KNx2-lMsfxLj8Qi5Ez9LOXpMHRWtSHNK",
     "timestamp": 1604585315628
    }
   ]
  },
  "kernelspec": {
   "display_name": "Python 3",
   "language": "python",
   "name": "python3"
  },
  "language_info": {
   "codemirror_mode": {
    "name": "ipython",
    "version": 3
   },
   "file_extension": ".py",
   "mimetype": "text/x-python",
   "name": "python",
   "nbconvert_exporter": "python",
   "pygments_lexer": "ipython3",
   "version": "3.7.10"
  }
 },
 "nbformat": 4,
 "nbformat_minor": 1
}
